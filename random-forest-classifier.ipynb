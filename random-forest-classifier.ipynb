{
 "cells": [
  {
   "cell_type": "code",
   "execution_count": 1,
   "id": "d1f6f0df",
   "metadata": {
    "_cell_guid": "b1076dfc-b9ad-4769-8c92-a6c4dae69d19",
    "_uuid": "8f2839f25d086af736a60e9eeb907d3b93b6e0e5",
    "execution": {
     "iopub.execute_input": "2024-04-29T07:44:38.799120Z",
     "iopub.status.busy": "2024-04-29T07:44:38.798300Z",
     "iopub.status.idle": "2024-04-29T07:44:39.835187Z",
     "shell.execute_reply": "2024-04-29T07:44:39.834154Z"
    },
    "papermill": {
     "duration": 1.052622,
     "end_time": "2024-04-29T07:44:39.837899",
     "exception": false,
     "start_time": "2024-04-29T07:44:38.785277",
     "status": "completed"
    },
    "tags": []
   },
   "outputs": [
    {
     "name": "stdout",
     "output_type": "stream",
     "text": [
      "/kaggle/input/currgames2/currgames.csv\n",
      "/kaggle/input/currgames3/currgames.csv\n",
      "/kaggle/input/currgames/currgames.csv\n",
      "/kaggle/input/nba-games/players.csv\n",
      "/kaggle/input/nba-games/teams.csv\n",
      "/kaggle/input/nba-games/ranking.csv\n",
      "/kaggle/input/nba-games/games_details.csv\n",
      "/kaggle/input/nba-games/games.csv\n"
     ]
    }
   ],
   "source": [
    "# This Python 3 environment comes with many helpful analytics libraries installed\n",
    "# It is defined by the kaggle/python Docker image: https://github.com/kaggle/docker-python\n",
    "# For example, here's several helpful packages to load\n",
    "\n",
    "import numpy as np # linear algebra\n",
    "import pandas as pd # data processing, CSV file I/O (e.g. pd.read_csv)\n",
    "\n",
    "# Input data files are available in the read-only \"../input/\" directory\n",
    "# For example, running this (by clicking run or pressing Shift+Enter) will list all files under the input directory\n",
    "\n",
    "import os\n",
    "for dirname, _, filenames in os.walk('/kaggle/input'):\n",
    "    for filename in filenames:\n",
    "        print(os.path.join(dirname, filename))\n",
    "\n",
    "# You can write up to 20GB to the current directory (/kaggle/working/) that gets preserved as output when you create a version using \"Save & Run All\" \n",
    "# You can also write temporary files to /kaggle/temp/, but they won't be saved outside of the current session"
   ]
  },
  {
   "cell_type": "code",
   "execution_count": 2,
   "id": "9dc712cb",
   "metadata": {
    "execution": {
     "iopub.execute_input": "2024-04-29T07:44:39.861165Z",
     "iopub.status.busy": "2024-04-29T07:44:39.860008Z",
     "iopub.status.idle": "2024-04-29T07:44:39.865382Z",
     "shell.execute_reply": "2024-04-29T07:44:39.864180Z"
    },
    "papermill": {
     "duration": 0.019313,
     "end_time": "2024-04-29T07:44:39.867860",
     "exception": false,
     "start_time": "2024-04-29T07:44:39.848547",
     "status": "completed"
    },
    "tags": []
   },
   "outputs": [],
   "source": [
    "#import requests\n",
    "\n",
    "#jsonData = requests.get('https://data.nba.net/prod/v2/20200224/scoreboard.json').json()\n",
    "\n",
    "#for each in jsonData['games']:\n",
    "    #print ('%s @ %s' %(each['vTeam']['triCode'], each['hTeam']['triCode']))"
   ]
  },
  {
   "cell_type": "markdown",
   "id": "b26f0edd",
   "metadata": {
    "papermill": {
     "duration": 0.009749,
     "end_time": "2024-04-29T07:44:39.887985",
     "exception": false,
     "start_time": "2024-04-29T07:44:39.878236",
     "status": "completed"
    },
    "tags": []
   },
   "source": [
    "# NBA Predictions\n",
    "\n",
    "[![Kaggle](https://kaggle.com/static/images/open-in-kaggle.svg)](https://kaggle.com/kernels/welcome?src=https://github.com/NBA-Predictions/NBA-Analysis/blob/main/Random%20Forest.ipynb)"
   ]
  },
  {
   "cell_type": "markdown",
   "id": "3d42a429",
   "metadata": {
    "papermill": {
     "duration": 0.009798,
     "end_time": "2024-04-29T07:44:39.907863",
     "exception": false,
     "start_time": "2024-04-29T07:44:39.898065",
     "status": "completed"
    },
    "tags": []
   },
   "source": [
    "## Initial analysis of relevant data\n",
    "\n",
    "Before we begin to code our ML model we must first look into what data is not only relevant to what it is we are trying to accomplish but if the data is related to the desired outcome. In this particular case we can define our desired outcome as;\n",
    "\n",
    "    -Predict the outcome of NBA games\n",
    "\n",
    "Though vague it is important to have an understanding of the ultimate goal. With that in mind we must determine what is considered relevant to being able to make these predictions. For the purposes of this analysis we will look at what data appears to relate to winning a game to have a more concrete idea of what features to include in the model.\n",
    "\n",
    "First we will load the data into a pandas dataframes and take a look at the data, more specifically we will first look into the games.csv for our initial dive into the data. This is because the games.csv has final game data and we can begin with simple probing into the data itself. Later we will look into as much of the data as we can."
   ]
  },
  {
   "cell_type": "code",
   "execution_count": 3,
   "id": "d1e8c336",
   "metadata": {
    "execution": {
     "iopub.execute_input": "2024-04-29T07:44:39.929808Z",
     "iopub.status.busy": "2024-04-29T07:44:39.929376Z",
     "iopub.status.idle": "2024-04-29T07:44:44.658898Z",
     "shell.execute_reply": "2024-04-29T07:44:44.657690Z"
    },
    "papermill": {
     "duration": 4.74419,
     "end_time": "2024-04-29T07:44:44.662149",
     "exception": false,
     "start_time": "2024-04-29T07:44:39.917959",
     "status": "completed"
    },
    "tags": []
   },
   "outputs": [
    {
     "name": "stderr",
     "output_type": "stream",
     "text": [
      "/tmp/ipykernel_18/2187376201.py:1: DtypeWarning: Columns (6) have mixed types. Specify dtype option on import or set low_memory=False.\n",
      "  gameData = pd.read_csv(\"/kaggle/input/nba-games/games_details.csv\")\n"
     ]
    },
    {
     "data": {
      "text/html": [
       "<div>\n",
       "<style scoped>\n",
       "    .dataframe tbody tr th:only-of-type {\n",
       "        vertical-align: middle;\n",
       "    }\n",
       "\n",
       "    .dataframe tbody tr th {\n",
       "        vertical-align: top;\n",
       "    }\n",
       "\n",
       "    .dataframe thead th {\n",
       "        text-align: right;\n",
       "    }\n",
       "</style>\n",
       "<table border=\"1\" class=\"dataframe\">\n",
       "  <thead>\n",
       "    <tr style=\"text-align: right;\">\n",
       "      <th></th>\n",
       "      <th>TEAM_ID_home</th>\n",
       "      <th>PTS_home</th>\n",
       "      <th>FG_PCT_home</th>\n",
       "      <th>FT_PCT_home</th>\n",
       "      <th>AST_home</th>\n",
       "      <th>REB_home</th>\n",
       "      <th>HOME_TEAM_ID</th>\n",
       "    </tr>\n",
       "  </thead>\n",
       "  <tbody>\n",
       "    <tr>\n",
       "      <th>0</th>\n",
       "      <td>1610612748</td>\n",
       "      <td>110</td>\n",
       "      <td>0.46</td>\n",
       "      <td>0.81</td>\n",
       "      <td>28</td>\n",
       "      <td>37</td>\n",
       "      <td>Heat</td>\n",
       "    </tr>\n",
       "    <tr>\n",
       "      <th>1</th>\n",
       "      <td>1610612740</td>\n",
       "      <td>115</td>\n",
       "      <td>0.48</td>\n",
       "      <td>0.77</td>\n",
       "      <td>27</td>\n",
       "      <td>44</td>\n",
       "      <td>Pelicans</td>\n",
       "    </tr>\n",
       "    <tr>\n",
       "      <th>2</th>\n",
       "      <td>1610612743</td>\n",
       "      <td>115</td>\n",
       "      <td>0.50</td>\n",
       "      <td>0.76</td>\n",
       "      <td>30</td>\n",
       "      <td>44</td>\n",
       "      <td>Nuggets</td>\n",
       "    </tr>\n",
       "  </tbody>\n",
       "</table>\n",
       "</div>"
      ],
      "text/plain": [
       "   TEAM_ID_home  PTS_home  FG_PCT_home  FT_PCT_home  AST_home  REB_home  \\\n",
       "0    1610612748       110         0.46         0.81        28        37   \n",
       "1    1610612740       115         0.48         0.77        27        44   \n",
       "2    1610612743       115         0.50         0.76        30        44   \n",
       "\n",
       "  HOME_TEAM_ID  \n",
       "0         Heat  \n",
       "1     Pelicans  \n",
       "2      Nuggets  "
      ]
     },
     "execution_count": 3,
     "metadata": {},
     "output_type": "execute_result"
    }
   ],
   "source": [
    "gameData = pd.read_csv(\"/kaggle/input/nba-games/games_details.csv\")\n",
    "games = pd.read_csv(\"/kaggle/input/nba-games/games.csv\")\n",
    "players = pd.read_csv(\"/kaggle/input/nba-games/players.csv\")\n",
    "teams = pd.read_csv(\"/kaggle/input/nba-games/teams.csv\")\n",
    "rankings = pd.read_csv(\"/kaggle/input/nba-games/ranking.csv\")\n",
    "today = pd.read_csv(\"/kaggle/input/currgames3/currgames.csv\")\n",
    "#initial dataframes for all .csv files\n",
    "#For now the only dataframe we will look into is games\n",
    "games.head()\n",
    "today.head()"
   ]
  },
  {
   "cell_type": "code",
   "execution_count": 4,
   "id": "463d1588",
   "metadata": {
    "execution": {
     "iopub.execute_input": "2024-04-29T07:44:44.687671Z",
     "iopub.status.busy": "2024-04-29T07:44:44.687307Z",
     "iopub.status.idle": "2024-04-29T07:44:44.694253Z",
     "shell.execute_reply": "2024-04-29T07:44:44.693127Z"
    },
    "papermill": {
     "duration": 0.02137,
     "end_time": "2024-04-29T07:44:44.696716",
     "exception": false,
     "start_time": "2024-04-29T07:44:44.675346",
     "status": "completed"
    },
    "tags": []
   },
   "outputs": [
    {
     "data": {
      "text/plain": [
       "(26651, 21)"
      ]
     },
     "execution_count": 4,
     "metadata": {},
     "output_type": "execute_result"
    }
   ],
   "source": [
    "games.shape"
   ]
  },
  {
   "cell_type": "markdown",
   "id": "f091484e",
   "metadata": {
    "papermill": {
     "duration": 0.010432,
     "end_time": "2024-04-29T07:44:44.719963",
     "exception": false,
     "start_time": "2024-04-29T07:44:44.709531",
     "status": "completed"
    },
    "tags": []
   },
   "source": [
    "# Home Team advantage\n",
    "\n",
    "Generally the team who is playing the home game is considered to have the advantage. We will do a small dive into this and see how true this claim is by looking at the data."
   ]
  },
  {
   "cell_type": "code",
   "execution_count": 5,
   "id": "f238c236",
   "metadata": {
    "execution": {
     "iopub.execute_input": "2024-04-29T07:44:44.744125Z",
     "iopub.status.busy": "2024-04-29T07:44:44.743710Z",
     "iopub.status.idle": "2024-04-29T07:44:45.196568Z",
     "shell.execute_reply": "2024-04-29T07:44:45.195315Z"
    },
    "papermill": {
     "duration": 0.467499,
     "end_time": "2024-04-29T07:44:45.199032",
     "exception": false,
     "start_time": "2024-04-29T07:44:44.731533",
     "status": "completed"
    },
    "tags": []
   },
   "outputs": [
    {
     "name": "stderr",
     "output_type": "stream",
     "text": [
      "/tmp/ipykernel_18/934583140.py:4: FutureWarning: When grouping with a length-1 list-like, you will need to pass a length-1 tuple to get_group in a future version of pandas. Pass `(name,)` instead of `name` to silence this warning.\n",
      "  home_wins = home_team_group.get_group(1)\n",
      "/tmp/ipykernel_18/934583140.py:5: FutureWarning: When grouping with a length-1 list-like, you will need to pass a length-1 tuple to get_group in a future version of pandas. Pass `(name,)` instead of `name` to silence this warning.\n",
      "  home_loses = home_team_group.get_group(0)\n"
     ]
    },
    {
     "name": "stdout",
     "output_type": "stream",
     "text": [
      "Home team win percentage: 58.70% \n",
      "Away team win percentage: 41.30%\n"
     ]
    },
    {
     "data": {
      "image/png": "[encoded data removed]",
      "text/plain": [
       "<Figure size 640x480 with 1 Axes>"
      ]
     },
     "metadata": {},
     "output_type": "display_data"
    }
   ],
   "source": [
    "import matplotlib.pyplot as plt\n",
    "\n",
    "home_team_group = games.groupby([\"HOME_TEAM_WINS\"])\n",
    "home_wins = home_team_group.get_group(1)\n",
    "home_loses = home_team_group.get_group(0)\n",
    "\n",
    "home_team_wins = home_wins[\"HOME_TEAM_WINS\"].value_counts()\n",
    "away_team_wins = home_loses[\"HOME_TEAM_WINS\"].value_counts()\n",
    "\n",
    "plt.bar(0.5, home_team_wins, width = .75,color = '#0077b6',label = 'Home Team Wins')\n",
    "plt.bar(1.25, away_team_wins, width = .75,color = '#fb8500',label = 'Away Team Wins')\n",
    "\n",
    "plt.ylabel('Number of Wins')\n",
    "plt.xticks(color = 'w')\n",
    "plt.title('Home wins vs Away wins')\n",
    "plt.legend()\n",
    "\n",
    "percentage_for_home = games['HOME_TEAM_WINS'].value_counts()/len(games) * 100\n",
    "print(f'Home team win percentage: {percentage_for_home[1]:.2f}% \\nAway team win percentage: {percentage_for_home[0]:.2f}%')"
   ]
  },
  {
   "cell_type": "markdown",
   "id": "e6cd0201",
   "metadata": {
    "papermill": {
     "duration": 0.011815,
     "end_time": "2024-04-29T07:44:45.222473",
     "exception": false,
     "start_time": "2024-04-29T07:44:45.210658",
     "status": "completed"
    },
    "tags": []
   },
   "source": [
    "# Home Game Results\n",
    "\n",
    "The data shows that home teams will win 58.7% of the time while the away teams will win 41.3% of the time. This does show some kind of relation to winning a game and playing at home court. However, there are a couple of factors that are not taken into account;\n",
    "\n",
    "\n",
    "1) The data does not represent a single team\n",
    "\n",
    "2) The results do not tell us why this appears to be the case\n",
    "\n",
    "3) There is no information on what factors are in play that result in these cases\n",
    "\n",
    "\n",
    "Though there certainly could be some factors that play into these results it does show a potential data point for the ML model that we will implement at a later time. For now we can follow our current investigation via home team wins vs away team wins by looking into the differences between average point differences."
   ]
  },
  {
   "cell_type": "code",
   "execution_count": 6,
   "id": "d8f67bdf",
   "metadata": {
    "execution": {
     "iopub.execute_input": "2024-04-29T07:44:45.248067Z",
     "iopub.status.busy": "2024-04-29T07:44:45.246990Z",
     "iopub.status.idle": "2024-04-29T07:44:45.624852Z",
     "shell.execute_reply": "2024-04-29T07:44:45.623735Z"
    },
    "papermill": {
     "duration": 0.393678,
     "end_time": "2024-04-29T07:44:45.627528",
     "exception": false,
     "start_time": "2024-04-29T07:44:45.233850",
     "status": "completed"
    },
    "tags": []
   },
   "outputs": [
    {
     "name": "stdout",
     "output_type": "stream",
     "text": [
      "(15645, 21)\n"
     ]
    },
    {
     "data": {
      "text/plain": [
       "<matplotlib.legend.Legend at 0x7a03d5f04f40>"
      ]
     },
     "execution_count": 6,
     "metadata": {},
     "output_type": "execute_result"
    },
    {
     "data": {
      "image/png": "[encoded data removed]",
      "text/plain": [
       "<Figure size 640x480 with 1 Axes>"
      ]
     },
     "metadata": {},
     "output_type": "display_data"
    }
   ],
   "source": [
    "home_pts = home_wins[\"PTS_home\"].mean()\n",
    "away_pts = home_loses[\"PTS_away\"].mean()\n",
    "\n",
    "print(home_wins.shape)\n",
    "\n",
    "plt.bar(.25, home_pts, width = 0.01,color = '#0077b6',label = 'Home Team Wins')\n",
    "plt.bar(.26, away_pts, width = 0.01,color = '#fb8500',label = 'Away Team Wins')\n",
    "\n",
    "plt.ylabel('Mean points scored')\n",
    "plt.xticks(color = 'w')\n",
    "plt.title('Home points vs Away points')\n",
    "plt.legend()"
   ]
  },
  {
   "cell_type": "markdown",
   "id": "b3fe563b",
   "metadata": {
    "papermill": {
     "duration": 0.011784,
     "end_time": "2024-04-29T07:44:45.651376",
     "exception": false,
     "start_time": "2024-04-29T07:44:45.639592",
     "status": "completed"
    },
    "tags": []
   },
   "source": [
    "# Mean points scored\n",
    "\n",
    "Though slight we can see that home teams every so slightly score more points on average. This data is most likely not usable for the ML model, not because it does not give insight, but because the difference between the two is not informative enough of what is occuring. Instead we should try and find the average score of individual teams and use this data as it would be more accurate to an individual teams standing. That having been said though only slight this data does match to some extent what we are looking for, though once again, there are issues with this as well.\n",
    "\n",
    "\n",
    "# Recomendation\n",
    "\n",
    "Though there is still a great deal of information to be gathered from the dataset I think this is a good place to start working on a simple ML model that will take in the team names and make a prediction based on number of games won alone, then work in new features from there. This is also a good place to work on building Elo rankings for simple predictions that do not involve ML which can take a considerable amount of time to make. This will also have the effect of potentially including the liklihood of winning a home game as well.\n",
    "\n",
    "For now we can start sorting and looking into the relevant data."
   ]
  },
  {
   "cell_type": "code",
   "execution_count": 7,
   "id": "442f245e",
   "metadata": {
    "execution": {
     "iopub.execute_input": "2024-04-29T07:44:45.677470Z",
     "iopub.status.busy": "2024-04-29T07:44:45.677105Z",
     "iopub.status.idle": "2024-04-29T07:44:45.726914Z",
     "shell.execute_reply": "2024-04-29T07:44:45.725718Z"
    },
    "papermill": {
     "duration": 0.0661,
     "end_time": "2024-04-29T07:44:45.729520",
     "exception": false,
     "start_time": "2024-04-29T07:44:45.663420",
     "status": "completed"
    },
    "tags": []
   },
   "outputs": [
    {
     "data": {
      "text/plain": [
       "True"
      ]
     },
     "execution_count": 7,
     "metadata": {},
     "output_type": "execute_result"
    }
   ],
   "source": [
    "games = games.sort_values(by='GAME_DATE_EST').reset_index(drop = True)\n",
    "#sort the array by date in ascending order\n",
    "games.isnull().values.any()\n",
    "#check for any null/NaN/NaT values in the dataframe"
   ]
  },
  {
   "cell_type": "markdown",
   "id": "c376e8ee",
   "metadata": {
    "papermill": {
     "duration": 0.012345,
     "end_time": "2024-04-29T07:44:45.754162",
     "exception": false,
     "start_time": "2024-04-29T07:44:45.741817",
     "status": "completed"
    },
    "tags": []
   },
   "source": [
    "As shown above we do have null values which are not useful to us. Therefore we will drop them."
   ]
  },
  {
   "cell_type": "code",
   "execution_count": 8,
   "id": "c9ed5c9b",
   "metadata": {
    "execution": {
     "iopub.execute_input": "2024-04-29T07:44:45.780453Z",
     "iopub.status.busy": "2024-04-29T07:44:45.780042Z",
     "iopub.status.idle": "2024-04-29T07:44:45.831669Z",
     "shell.execute_reply": "2024-04-29T07:44:45.830454Z"
    },
    "papermill": {
     "duration": 0.067516,
     "end_time": "2024-04-29T07:44:45.834117",
     "exception": false,
     "start_time": "2024-04-29T07:44:45.766601",
     "status": "completed"
    },
    "tags": []
   },
   "outputs": [
    {
     "name": "stdout",
     "output_type": "stream",
     "text": [
      "False\n",
      "(26552, 21)\n"
     ]
    },
    {
     "data": {
      "text/html": [
       "<div>\n",
       "<style scoped>\n",
       "    .dataframe tbody tr th:only-of-type {\n",
       "        vertical-align: middle;\n",
       "    }\n",
       "\n",
       "    .dataframe tbody tr th {\n",
       "        vertical-align: top;\n",
       "    }\n",
       "\n",
       "    .dataframe thead th {\n",
       "        text-align: right;\n",
       "    }\n",
       "</style>\n",
       "<table border=\"1\" class=\"dataframe\">\n",
       "  <thead>\n",
       "    <tr style=\"text-align: right;\">\n",
       "      <th></th>\n",
       "      <th>GAME_DATE_EST</th>\n",
       "      <th>GAME_ID</th>\n",
       "      <th>GAME_STATUS_TEXT</th>\n",
       "      <th>HOME_TEAM_ID</th>\n",
       "      <th>VISITOR_TEAM_ID</th>\n",
       "      <th>SEASON</th>\n",
       "      <th>TEAM_ID_home</th>\n",
       "      <th>PTS_home</th>\n",
       "      <th>FG_PCT_home</th>\n",
       "      <th>FT_PCT_home</th>\n",
       "      <th>...</th>\n",
       "      <th>AST_home</th>\n",
       "      <th>REB_home</th>\n",
       "      <th>TEAM_ID_away</th>\n",
       "      <th>PTS_away</th>\n",
       "      <th>FG_PCT_away</th>\n",
       "      <th>FT_PCT_away</th>\n",
       "      <th>FG3_PCT_away</th>\n",
       "      <th>AST_away</th>\n",
       "      <th>REB_away</th>\n",
       "      <th>HOME_TEAM_WINS</th>\n",
       "    </tr>\n",
       "  </thead>\n",
       "  <tbody>\n",
       "    <tr>\n",
       "      <th>0</th>\n",
       "      <td>2003-10-05</td>\n",
       "      <td>10300001</td>\n",
       "      <td>Final</td>\n",
       "      <td>1610612762</td>\n",
       "      <td>1610612742</td>\n",
       "      <td>2003</td>\n",
       "      <td>1610612762</td>\n",
       "      <td>90.0</td>\n",
       "      <td>0.457</td>\n",
       "      <td>0.735</td>\n",
       "      <td>...</td>\n",
       "      <td>23.0</td>\n",
       "      <td>41.0</td>\n",
       "      <td>1610612742</td>\n",
       "      <td>85.0</td>\n",
       "      <td>0.447</td>\n",
       "      <td>0.500</td>\n",
       "      <td>0.250</td>\n",
       "      <td>20.0</td>\n",
       "      <td>38.0</td>\n",
       "      <td>1</td>\n",
       "    </tr>\n",
       "    <tr>\n",
       "      <th>1</th>\n",
       "      <td>2003-10-06</td>\n",
       "      <td>10300002</td>\n",
       "      <td>Final</td>\n",
       "      <td>1610612763</td>\n",
       "      <td>1610612749</td>\n",
       "      <td>2003</td>\n",
       "      <td>1610612763</td>\n",
       "      <td>105.0</td>\n",
       "      <td>0.494</td>\n",
       "      <td>0.618</td>\n",
       "      <td>...</td>\n",
       "      <td>25.0</td>\n",
       "      <td>48.0</td>\n",
       "      <td>1610612749</td>\n",
       "      <td>94.0</td>\n",
       "      <td>0.427</td>\n",
       "      <td>0.700</td>\n",
       "      <td>0.154</td>\n",
       "      <td>20.0</td>\n",
       "      <td>43.0</td>\n",
       "      <td>1</td>\n",
       "    </tr>\n",
       "    <tr>\n",
       "      <th>2</th>\n",
       "      <td>2003-10-07</td>\n",
       "      <td>10300010</td>\n",
       "      <td>Final</td>\n",
       "      <td>1610612764</td>\n",
       "      <td>1610612752</td>\n",
       "      <td>2003</td>\n",
       "      <td>1610612764</td>\n",
       "      <td>104.0</td>\n",
       "      <td>0.506</td>\n",
       "      <td>0.677</td>\n",
       "      <td>...</td>\n",
       "      <td>26.0</td>\n",
       "      <td>45.0</td>\n",
       "      <td>1610612752</td>\n",
       "      <td>86.0</td>\n",
       "      <td>0.380</td>\n",
       "      <td>0.852</td>\n",
       "      <td>0.188</td>\n",
       "      <td>19.0</td>\n",
       "      <td>37.0</td>\n",
       "      <td>1</td>\n",
       "    </tr>\n",
       "    <tr>\n",
       "      <th>3</th>\n",
       "      <td>2003-10-07</td>\n",
       "      <td>10300009</td>\n",
       "      <td>Final</td>\n",
       "      <td>1610612758</td>\n",
       "      <td>1610612746</td>\n",
       "      <td>2003</td>\n",
       "      <td>1610612758</td>\n",
       "      <td>101.0</td>\n",
       "      <td>0.467</td>\n",
       "      <td>0.871</td>\n",
       "      <td>...</td>\n",
       "      <td>19.0</td>\n",
       "      <td>39.0</td>\n",
       "      <td>1610612746</td>\n",
       "      <td>82.0</td>\n",
       "      <td>0.368</td>\n",
       "      <td>0.609</td>\n",
       "      <td>0.364</td>\n",
       "      <td>13.0</td>\n",
       "      <td>50.0</td>\n",
       "      <td>1</td>\n",
       "    </tr>\n",
       "    <tr>\n",
       "      <th>4</th>\n",
       "      <td>2003-10-07</td>\n",
       "      <td>10300005</td>\n",
       "      <td>Final</td>\n",
       "      <td>1610612757</td>\n",
       "      <td>1610612745</td>\n",
       "      <td>2003</td>\n",
       "      <td>1610612757</td>\n",
       "      <td>104.0</td>\n",
       "      <td>0.527</td>\n",
       "      <td>0.657</td>\n",
       "      <td>...</td>\n",
       "      <td>22.0</td>\n",
       "      <td>33.0</td>\n",
       "      <td>1610612745</td>\n",
       "      <td>80.0</td>\n",
       "      <td>0.470</td>\n",
       "      <td>0.667</td>\n",
       "      <td>0.333</td>\n",
       "      <td>10.0</td>\n",
       "      <td>37.0</td>\n",
       "      <td>1</td>\n",
       "    </tr>\n",
       "  </tbody>\n",
       "</table>\n",
       "<p>5 rows × 21 columns</p>\n",
       "</div>"
      ],
      "text/plain": [
       "  GAME_DATE_EST   GAME_ID GAME_STATUS_TEXT  HOME_TEAM_ID  VISITOR_TEAM_ID  \\\n",
       "0    2003-10-05  10300001            Final    1610612762       1610612742   \n",
       "1    2003-10-06  10300002            Final    1610612763       1610612749   \n",
       "2    2003-10-07  10300010            Final    1610612764       1610612752   \n",
       "3    2003-10-07  10300009            Final    1610612758       1610612746   \n",
       "4    2003-10-07  10300005            Final    1610612757       1610612745   \n",
       "\n",
       "   SEASON  TEAM_ID_home  PTS_home  FG_PCT_home  FT_PCT_home  ...  AST_home  \\\n",
       "0    2003    1610612762      90.0        0.457        0.735  ...      23.0   \n",
       "1    2003    1610612763     105.0        0.494        0.618  ...      25.0   \n",
       "2    2003    1610612764     104.0        0.506        0.677  ...      26.0   \n",
       "3    2003    1610612758     101.0        0.467        0.871  ...      19.0   \n",
       "4    2003    1610612757     104.0        0.527        0.657  ...      22.0   \n",
       "\n",
       "   REB_home  TEAM_ID_away  PTS_away  FG_PCT_away  FT_PCT_away  FG3_PCT_away  \\\n",
       "0      41.0    1610612742      85.0        0.447        0.500         0.250   \n",
       "1      48.0    1610612749      94.0        0.427        0.700         0.154   \n",
       "2      45.0    1610612752      86.0        0.380        0.852         0.188   \n",
       "3      39.0    1610612746      82.0        0.368        0.609         0.364   \n",
       "4      33.0    1610612745      80.0        0.470        0.667         0.333   \n",
       "\n",
       "   AST_away  REB_away  HOME_TEAM_WINS  \n",
       "0      20.0      38.0               1  \n",
       "1      20.0      43.0               1  \n",
       "2      19.0      37.0               1  \n",
       "3      13.0      50.0               1  \n",
       "4      10.0      37.0               1  \n",
       "\n",
       "[5 rows x 21 columns]"
      ]
     },
     "execution_count": 8,
     "metadata": {},
     "output_type": "execute_result"
    }
   ],
   "source": [
    "games = games.dropna()\n",
    "#drop all null/NaN/Nat values from the dataframe\n",
    "print(games.isnull().values.any())\n",
    "print(games.shape)\n",
    "#print the results to make sure we dropped the desired values\n",
    "games.head()\n",
    "#check the first few entries of the newly arranged dataframe"
   ]
  },
  {
   "cell_type": "markdown",
   "id": "d85b0975",
   "metadata": {
    "papermill": {
     "duration": 0.012697,
     "end_time": "2024-04-29T07:44:45.859896",
     "exception": false,
     "start_time": "2024-04-29T07:44:45.847199",
     "status": "completed"
    },
    "tags": []
   },
   "source": [
    "Now that we have no NaN values in our dataset we can begin the process of determining the average points scored for all teams. This will involve a little data manipulation on our end, and we will need to create new data frames that are copies of the originals to preserve the integrity of the original files we will be using in the instance that we need that preserved data later on."
   ]
  },
  {
   "cell_type": "code",
   "execution_count": 9,
   "id": "332ad070",
   "metadata": {
    "execution": {
     "iopub.execute_input": "2024-04-29T07:44:45.887777Z",
     "iopub.status.busy": "2024-04-29T07:44:45.887360Z",
     "iopub.status.idle": "2024-04-29T07:44:45.921512Z",
     "shell.execute_reply": "2024-04-29T07:44:45.919839Z"
    },
    "papermill": {
     "duration": 0.051403,
     "end_time": "2024-04-29T07:44:45.924303",
     "exception": false,
     "start_time": "2024-04-29T07:44:45.872900",
     "status": "completed"
    },
    "tags": []
   },
   "outputs": [],
   "source": [
    "# We have two columns to replace, there are 'HOME_TEAM_ID' and 'VISITOR_TEAM_ID'\n",
    "\n",
    "teams = teams[['TEAM_ID', 'NICKNAME']]\n",
    "\n",
    "# replace 'HOME_TEAM_ID' with names in df_names\n",
    "home_names = teams.copy() # copy the names data\n",
    "home_names.columns = ['HOME_TEAM_ID', 'NICKNAME'] # change the column names before merging\n",
    "# merge names according to df on \"ID\"\n",
    "result_1 = pd.merge(games['HOME_TEAM_ID'], home_names, how =\"left\", on=\"HOME_TEAM_ID\")  \n",
    "games['HOME_TEAM_ID'] = result_1['NICKNAME']\n",
    "\n",
    "# replace 'VISITOR_TEAM_ID' with names in df_names\n",
    "visitor_names = teams.copy() # copy the names data\n",
    "visitor_names.columns = ['VISITOR_TEAM_ID', 'NICKNAME'] # change the column names before merging\n",
    "# merge names according to df on \"ID\"\n",
    "result_2 = pd.merge(games['VISITOR_TEAM_ID'], visitor_names, how = \"left\", on=\"VISITOR_TEAM_ID\")\n",
    "games['VISITOR_TEAM_ID'] = result_2['NICKNAME']"
   ]
  },
  {
   "cell_type": "code",
   "execution_count": 10,
   "id": "f901d862",
   "metadata": {
    "execution": {
     "iopub.execute_input": "2024-04-29T07:44:45.952028Z",
     "iopub.status.busy": "2024-04-29T07:44:45.951634Z",
     "iopub.status.idle": "2024-04-29T07:44:45.981348Z",
     "shell.execute_reply": "2024-04-29T07:44:45.980173Z"
    },
    "papermill": {
     "duration": 0.046354,
     "end_time": "2024-04-29T07:44:45.983589",
     "exception": false,
     "start_time": "2024-04-29T07:44:45.937235",
     "status": "completed"
    },
    "tags": []
   },
   "outputs": [
    {
     "data": {
      "text/html": [
       "<div>\n",
       "<style scoped>\n",
       "    .dataframe tbody tr th:only-of-type {\n",
       "        vertical-align: middle;\n",
       "    }\n",
       "\n",
       "    .dataframe tbody tr th {\n",
       "        vertical-align: top;\n",
       "    }\n",
       "\n",
       "    .dataframe thead th {\n",
       "        text-align: right;\n",
       "    }\n",
       "</style>\n",
       "<table border=\"1\" class=\"dataframe\">\n",
       "  <thead>\n",
       "    <tr style=\"text-align: right;\">\n",
       "      <th></th>\n",
       "      <th>GAME_DATE_EST</th>\n",
       "      <th>GAME_ID</th>\n",
       "      <th>GAME_STATUS_TEXT</th>\n",
       "      <th>HOME_TEAM_ID</th>\n",
       "      <th>VISITOR_TEAM_ID</th>\n",
       "      <th>SEASON</th>\n",
       "      <th>TEAM_ID_home</th>\n",
       "      <th>PTS_home</th>\n",
       "      <th>FG_PCT_home</th>\n",
       "      <th>FT_PCT_home</th>\n",
       "      <th>...</th>\n",
       "      <th>AST_home</th>\n",
       "      <th>REB_home</th>\n",
       "      <th>TEAM_ID_away</th>\n",
       "      <th>PTS_away</th>\n",
       "      <th>FG_PCT_away</th>\n",
       "      <th>FT_PCT_away</th>\n",
       "      <th>FG3_PCT_away</th>\n",
       "      <th>AST_away</th>\n",
       "      <th>REB_away</th>\n",
       "      <th>HOME_TEAM_WINS</th>\n",
       "    </tr>\n",
       "  </thead>\n",
       "  <tbody>\n",
       "    <tr>\n",
       "      <th>0</th>\n",
       "      <td>2003-10-05</td>\n",
       "      <td>10300001</td>\n",
       "      <td>Final</td>\n",
       "      <td>Jazz</td>\n",
       "      <td>Mavericks</td>\n",
       "      <td>2003</td>\n",
       "      <td>1610612762</td>\n",
       "      <td>90.0</td>\n",
       "      <td>0.457</td>\n",
       "      <td>0.735</td>\n",
       "      <td>...</td>\n",
       "      <td>23.0</td>\n",
       "      <td>41.0</td>\n",
       "      <td>1610612742</td>\n",
       "      <td>85.0</td>\n",
       "      <td>0.447</td>\n",
       "      <td>0.500</td>\n",
       "      <td>0.250</td>\n",
       "      <td>20.0</td>\n",
       "      <td>38.0</td>\n",
       "      <td>1</td>\n",
       "    </tr>\n",
       "    <tr>\n",
       "      <th>1</th>\n",
       "      <td>2003-10-06</td>\n",
       "      <td>10300002</td>\n",
       "      <td>Final</td>\n",
       "      <td>Grizzlies</td>\n",
       "      <td>Bucks</td>\n",
       "      <td>2003</td>\n",
       "      <td>1610612763</td>\n",
       "      <td>105.0</td>\n",
       "      <td>0.494</td>\n",
       "      <td>0.618</td>\n",
       "      <td>...</td>\n",
       "      <td>25.0</td>\n",
       "      <td>48.0</td>\n",
       "      <td>1610612749</td>\n",
       "      <td>94.0</td>\n",
       "      <td>0.427</td>\n",
       "      <td>0.700</td>\n",
       "      <td>0.154</td>\n",
       "      <td>20.0</td>\n",
       "      <td>43.0</td>\n",
       "      <td>1</td>\n",
       "    </tr>\n",
       "    <tr>\n",
       "      <th>2</th>\n",
       "      <td>2003-10-07</td>\n",
       "      <td>10300010</td>\n",
       "      <td>Final</td>\n",
       "      <td>Wizards</td>\n",
       "      <td>Knicks</td>\n",
       "      <td>2003</td>\n",
       "      <td>1610612764</td>\n",
       "      <td>104.0</td>\n",
       "      <td>0.506</td>\n",
       "      <td>0.677</td>\n",
       "      <td>...</td>\n",
       "      <td>26.0</td>\n",
       "      <td>45.0</td>\n",
       "      <td>1610612752</td>\n",
       "      <td>86.0</td>\n",
       "      <td>0.380</td>\n",
       "      <td>0.852</td>\n",
       "      <td>0.188</td>\n",
       "      <td>19.0</td>\n",
       "      <td>37.0</td>\n",
       "      <td>1</td>\n",
       "    </tr>\n",
       "    <tr>\n",
       "      <th>3</th>\n",
       "      <td>2003-10-07</td>\n",
       "      <td>10300009</td>\n",
       "      <td>Final</td>\n",
       "      <td>Kings</td>\n",
       "      <td>Clippers</td>\n",
       "      <td>2003</td>\n",
       "      <td>1610612758</td>\n",
       "      <td>101.0</td>\n",
       "      <td>0.467</td>\n",
       "      <td>0.871</td>\n",
       "      <td>...</td>\n",
       "      <td>19.0</td>\n",
       "      <td>39.0</td>\n",
       "      <td>1610612746</td>\n",
       "      <td>82.0</td>\n",
       "      <td>0.368</td>\n",
       "      <td>0.609</td>\n",
       "      <td>0.364</td>\n",
       "      <td>13.0</td>\n",
       "      <td>50.0</td>\n",
       "      <td>1</td>\n",
       "    </tr>\n",
       "    <tr>\n",
       "      <th>4</th>\n",
       "      <td>2003-10-07</td>\n",
       "      <td>10300005</td>\n",
       "      <td>Final</td>\n",
       "      <td>Trail Blazers</td>\n",
       "      <td>Rockets</td>\n",
       "      <td>2003</td>\n",
       "      <td>1610612757</td>\n",
       "      <td>104.0</td>\n",
       "      <td>0.527</td>\n",
       "      <td>0.657</td>\n",
       "      <td>...</td>\n",
       "      <td>22.0</td>\n",
       "      <td>33.0</td>\n",
       "      <td>1610612745</td>\n",
       "      <td>80.0</td>\n",
       "      <td>0.470</td>\n",
       "      <td>0.667</td>\n",
       "      <td>0.333</td>\n",
       "      <td>10.0</td>\n",
       "      <td>37.0</td>\n",
       "      <td>1</td>\n",
       "    </tr>\n",
       "  </tbody>\n",
       "</table>\n",
       "<p>5 rows × 21 columns</p>\n",
       "</div>"
      ],
      "text/plain": [
       "  GAME_DATE_EST   GAME_ID GAME_STATUS_TEXT   HOME_TEAM_ID VISITOR_TEAM_ID  \\\n",
       "0    2003-10-05  10300001            Final           Jazz       Mavericks   \n",
       "1    2003-10-06  10300002            Final      Grizzlies           Bucks   \n",
       "2    2003-10-07  10300010            Final        Wizards          Knicks   \n",
       "3    2003-10-07  10300009            Final          Kings        Clippers   \n",
       "4    2003-10-07  10300005            Final  Trail Blazers         Rockets   \n",
       "\n",
       "   SEASON  TEAM_ID_home  PTS_home  FG_PCT_home  FT_PCT_home  ...  AST_home  \\\n",
       "0    2003    1610612762      90.0        0.457        0.735  ...      23.0   \n",
       "1    2003    1610612763     105.0        0.494        0.618  ...      25.0   \n",
       "2    2003    1610612764     104.0        0.506        0.677  ...      26.0   \n",
       "3    2003    1610612758     101.0        0.467        0.871  ...      19.0   \n",
       "4    2003    1610612757     104.0        0.527        0.657  ...      22.0   \n",
       "\n",
       "   REB_home  TEAM_ID_away  PTS_away  FG_PCT_away  FT_PCT_away  FG3_PCT_away  \\\n",
       "0      41.0    1610612742      85.0        0.447        0.500         0.250   \n",
       "1      48.0    1610612749      94.0        0.427        0.700         0.154   \n",
       "2      45.0    1610612752      86.0        0.380        0.852         0.188   \n",
       "3      39.0    1610612746      82.0        0.368        0.609         0.364   \n",
       "4      33.0    1610612745      80.0        0.470        0.667         0.333   \n",
       "\n",
       "   AST_away  REB_away  HOME_TEAM_WINS  \n",
       "0      20.0      38.0               1  \n",
       "1      20.0      43.0               1  \n",
       "2      19.0      37.0               1  \n",
       "3      13.0      50.0               1  \n",
       "4      10.0      37.0               1  \n",
       "\n",
       "[5 rows x 21 columns]"
      ]
     },
     "execution_count": 10,
     "metadata": {},
     "output_type": "execute_result"
    }
   ],
   "source": [
    "games.head()"
   ]
  },
  {
   "cell_type": "markdown",
   "id": "d46217e2",
   "metadata": {
    "papermill": {
     "duration": 0.012842,
     "end_time": "2024-04-29T07:44:46.010032",
     "exception": false,
     "start_time": "2024-04-29T07:44:45.997190",
     "status": "completed"
    },
    "tags": []
   },
   "source": [
    "We have successfully changed the HOME_TEAM_ID and VISITOR_TEAM_ID collumns to represent the names of the teams in a more easily understandable way, more specificially we replaced the team id numbers and switched them with the actual team names so we know what teams we are working with.\n",
    "\n",
    "Next we will create an increadibly basic ML model to make predictions with. This will not be accurate or representative of anything, and the predictions will likely be flawed and useless. However, for the purposes of creating an output file that can be grabbed by the website it will work for our purposes."
   ]
  },
  {
   "cell_type": "code",
   "execution_count": 11,
   "id": "833bd7fa",
   "metadata": {
    "execution": {
     "iopub.execute_input": "2024-04-29T07:44:46.038375Z",
     "iopub.status.busy": "2024-04-29T07:44:46.038000Z",
     "iopub.status.idle": "2024-04-29T07:44:46.055306Z",
     "shell.execute_reply": "2024-04-29T07:44:46.054146Z"
    },
    "papermill": {
     "duration": 0.034931,
     "end_time": "2024-04-29T07:44:46.058200",
     "exception": false,
     "start_time": "2024-04-29T07:44:46.023269",
     "status": "completed"
    },
    "tags": []
   },
   "outputs": [],
   "source": [
    "# we want to predict games after the 2020-2021 season so we will drop these data from our dataframe\n",
    "# later we will grab use that dropped data for making predictions on.\n",
    "\n",
    "games = games.loc[games['GAME_DATE_EST'] < '2020-08-01'].reset_index(drop=True)"
   ]
  },
  {
   "cell_type": "code",
   "execution_count": 12,
   "id": "d21fbec2",
   "metadata": {
    "execution": {
     "iopub.execute_input": "2024-04-29T07:44:46.087319Z",
     "iopub.status.busy": "2024-04-29T07:44:46.086937Z",
     "iopub.status.idle": "2024-04-29T07:44:47.624568Z",
     "shell.execute_reply": "2024-04-29T07:44:47.623263Z"
    },
    "papermill": {
     "duration": 1.556097,
     "end_time": "2024-04-29T07:44:47.627517",
     "exception": false,
     "start_time": "2024-04-29T07:44:46.071420",
     "status": "completed"
    },
    "tags": []
   },
   "outputs": [],
   "source": [
    "from sklearn.model_selection import train_test_split\n",
    "#below we have our features in X and the outcomes in y, this will be split into\n",
    "# training and validation data\n",
    "X = games[['TEAM_ID_home', 'PTS_home', 'FG_PCT_home','FT_PCT_home', 'AST_home', 'REB_home']].copy()\n",
    "y = games['HOME_TEAM_WINS'].copy()\n",
    "\n",
    "X_train_raw, X_val_raw, y_train, y_val = train_test_split(X, y, test_size=0.20, random_state=42)"
   ]
  },
  {
   "cell_type": "code",
   "execution_count": 13,
   "id": "4a4aab7e",
   "metadata": {
    "execution": {
     "iopub.execute_input": "2024-04-29T07:44:47.656809Z",
     "iopub.status.busy": "2024-04-29T07:44:47.656421Z",
     "iopub.status.idle": "2024-04-29T07:44:47.677220Z",
     "shell.execute_reply": "2024-04-29T07:44:47.676098Z"
    },
    "papermill": {
     "duration": 0.038188,
     "end_time": "2024-04-29T07:44:47.679479",
     "exception": false,
     "start_time": "2024-04-29T07:44:47.641291",
     "status": "completed"
    },
    "tags": []
   },
   "outputs": [
    {
     "name": "stdout",
     "output_type": "stream",
     "text": [
      "X_train.shape = (18566, 6)\n"
     ]
    },
    {
     "data": {
      "text/plain": [
       "pandas.core.frame.DataFrame"
      ]
     },
     "execution_count": 13,
     "metadata": {},
     "output_type": "execute_result"
    }
   ],
   "source": [
    "from sklearn.feature_extraction.text import TfidfVectorizer\n",
    "# below our data is fit into vectors which is the actual data that our ML model\n",
    "# can use\n",
    "#tfidf_vectorizer = TfidfVectorizer()\n",
    "#X_train = tfidf_vectorizer.fit_transform(X_train_raw).toarray()\n",
    "\n",
    "print(f\"X_train.shape = {X_train_raw.shape}\")\n",
    "type(X_train_raw)"
   ]
  },
  {
   "cell_type": "code",
   "execution_count": 14,
   "id": "05138813",
   "metadata": {
    "execution": {
     "iopub.execute_input": "2024-04-29T07:44:47.708796Z",
     "iopub.status.busy": "2024-04-29T07:44:47.708013Z",
     "iopub.status.idle": "2024-04-29T07:44:51.393847Z",
     "shell.execute_reply": "2024-04-29T07:44:51.392286Z"
    },
    "papermill": {
     "duration": 3.703563,
     "end_time": "2024-04-29T07:44:51.396658",
     "exception": false,
     "start_time": "2024-04-29T07:44:47.693095",
     "status": "completed"
    },
    "tags": []
   },
   "outputs": [
    {
     "name": "stdout",
     "output_type": "stream",
     "text": [
      "accuracy (on y_train): 0.9999\n"
     ]
    },
    {
     "data": {
      "image/png": "[encoded data removed]",
      "text/plain": [
       "<Figure size 640x480 with 2 Axes>"
      ]
     },
     "metadata": {},
     "output_type": "display_data"
    }
   ],
   "source": [
    "from sklearn.ensemble import RandomForestClassifier\n",
    "from sklearn.metrics import confusion_matrix, ConfusionMatrixDisplay, accuracy_score\n",
    "\n",
    "#Initilazation of the RandomForestClassifier ML model and fitting of the data to the model\n",
    "model = RandomForestClassifier()\n",
    "model = model.fit(X_train_raw, y_train)\n",
    "\n",
    "#Predictions the model has made\n",
    "predictions_train = model.predict(X_train_raw)\n",
    "\n",
    "#confusion matrix to show the accuracy of the model on the training data\n",
    "#note: the model has not yet been validated\n",
    "disp = ConfusionMatrixDisplay(confusion_matrix(y_train, predictions_train), display_labels=['0', '1'])\n",
    "disp.plot()\n",
    "print(f\"accuracy (on y_train): {accuracy_score(y_train, predictions_train):.4f}\")"
   ]
  },
  {
   "cell_type": "markdown",
   "id": "a942624d",
   "metadata": {
    "papermill": {
     "duration": 0.014572,
     "end_time": "2024-04-29T07:44:51.425247",
     "exception": false,
     "start_time": "2024-04-29T07:44:51.410675",
     "status": "completed"
    },
    "tags": []
   },
   "source": [
    "# Results of training dummy model\n",
    "\n",
    "As shown above this model is just guessing, the accuracy score is not a true representation of any game being played, but for the purposes of setting up this is fine, we will go back and adjust things so that we can get actual predictions. This is likely because every team has a roughly 60% chance of winning therefor the model simply guesses that the team put in will win. Though this is just the training because it only guessed wins we can assume that this trend will continue in the validation data as well. As such we should see a similar distribution of predictions.\n",
    "\n",
    "# Interesting observation\n",
    "\n",
    "Many professional ML models in the same space are roughly 70% accurate. It is possible that a significant percentage of this may be from home court advantage, though certainly not the 59% above. As features are added we will need to see how much the data strays from the original test and validations."
   ]
  },
  {
   "cell_type": "code",
   "execution_count": 15,
   "id": "9fb5bd98",
   "metadata": {
    "execution": {
     "iopub.execute_input": "2024-04-29T07:44:51.455937Z",
     "iopub.status.busy": "2024-04-29T07:44:51.455112Z",
     "iopub.status.idle": "2024-04-29T07:44:51.462983Z",
     "shell.execute_reply": "2024-04-29T07:44:51.461899Z"
    },
    "papermill": {
     "duration": 0.026099,
     "end_time": "2024-04-29T07:44:51.465390",
     "exception": false,
     "start_time": "2024-04-29T07:44:51.439291",
     "status": "completed"
    },
    "tags": []
   },
   "outputs": [
    {
     "name": "stdout",
     "output_type": "stream",
     "text": [
      "X_val.shape = (4642, 6)\n"
     ]
    },
    {
     "data": {
      "text/plain": [
       "pandas.core.frame.DataFrame"
      ]
     },
     "execution_count": 15,
     "metadata": {},
     "output_type": "execute_result"
    }
   ],
   "source": [
    "#vectorize validation data\n",
    "#X_val = tfidf_vectorizer.transform(X_val_raw).toarray()\n",
    "print(f\"X_val.shape = {X_val_raw.shape}\")\n",
    "type(X_val_raw)"
   ]
  },
  {
   "cell_type": "code",
   "execution_count": 16,
   "id": "255d15c0",
   "metadata": {
    "execution": {
     "iopub.execute_input": "2024-04-29T07:44:51.496187Z",
     "iopub.status.busy": "2024-04-29T07:44:51.495146Z",
     "iopub.status.idle": "2024-04-29T07:44:51.942783Z",
     "shell.execute_reply": "2024-04-29T07:44:51.941509Z"
    },
    "papermill": {
     "duration": 0.466143,
     "end_time": "2024-04-29T07:44:51.945685",
     "exception": false,
     "start_time": "2024-04-29T07:44:51.479542",
     "status": "completed"
    },
    "tags": []
   },
   "outputs": [
    {
     "name": "stdout",
     "output_type": "stream",
     "text": [
      "accuracy (on y_val): 0.7439\n"
     ]
    },
    {
     "data": {
      "image/png": "[encoded data removed]",
      "text/plain": [
       "<Figure size 640x480 with 2 Axes>"
      ]
     },
     "metadata": {},
     "output_type": "display_data"
    }
   ],
   "source": [
    "\n",
    "#Validate the model\n",
    "predictions_val = model.predict(X_val_raw)\n",
    "disp = ConfusionMatrixDisplay(confusion_matrix(y_val, predictions_val), display_labels=['0', '1'])\n",
    "disp.plot()\n",
    "print(f\"accuracy (on y_val): {accuracy_score(y_val, predictions_val):.4f}\")"
   ]
  },
  {
   "cell_type": "markdown",
   "id": "e57eef53",
   "metadata": {
    "papermill": {
     "duration": 0.014565,
     "end_time": "2024-04-29T07:44:51.975711",
     "exception": false,
     "start_time": "2024-04-29T07:44:51.961146",
     "status": "completed"
    },
    "tags": []
   },
   "source": [
    "# Results of validation\n",
    "\n",
    "The results of the validation are exactly what is expected, and that is only guessing that the outcomes of the game will be a victory for the home team. This is once again entirely expected and ensures that we know what is occuring and why. Again this data is useless for a true final model."
   ]
  },
  {
   "cell_type": "code",
   "execution_count": 17,
   "id": "36251ea8",
   "metadata": {
    "execution": {
     "iopub.execute_input": "2024-04-29T07:44:52.008585Z",
     "iopub.status.busy": "2024-04-29T07:44:52.008190Z",
     "iopub.status.idle": "2024-04-29T07:44:52.019786Z",
     "shell.execute_reply": "2024-04-29T07:44:52.018530Z"
    },
    "papermill": {
     "duration": 0.031682,
     "end_time": "2024-04-29T07:44:52.022449",
     "exception": false,
     "start_time": "2024-04-29T07:44:51.990767",
     "status": "completed"
    },
    "tags": []
   },
   "outputs": [],
   "source": [
    "#create test data, this will output the results into another file\n",
    "df_test = games.loc[games['GAME_DATE_EST'] > '2019-10-01'].reset_index(drop=True)\n",
    "df_pred = today"
   ]
  },
  {
   "cell_type": "code",
   "execution_count": 18,
   "id": "8247422e",
   "metadata": {
    "execution": {
     "iopub.execute_input": "2024-04-29T07:44:52.056013Z",
     "iopub.status.busy": "2024-04-29T07:44:52.055236Z",
     "iopub.status.idle": "2024-04-29T07:44:52.065274Z",
     "shell.execute_reply": "2024-04-29T07:44:52.064389Z"
    },
    "papermill": {
     "duration": 0.028825,
     "end_time": "2024-04-29T07:44:52.067231",
     "exception": false,
     "start_time": "2024-04-29T07:44:52.038406",
     "status": "completed"
    },
    "tags": []
   },
   "outputs": [
    {
     "name": "stdout",
     "output_type": "stream",
     "text": [
      "X_test.shape = (1077, 6)\n"
     ]
    },
    {
     "data": {
      "text/plain": [
       "pandas.core.frame.DataFrame"
      ]
     },
     "execution_count": 18,
     "metadata": {},
     "output_type": "execute_result"
    }
   ],
   "source": [
    "#vectorize the test data into something that the trained ML model can use\n",
    "X_test = df_test[['TEAM_ID_home', 'PTS_home', 'FG_PCT_home','FT_PCT_home','AST_home', 'REB_home']]\n",
    "X_pred = df_pred[['TEAM_ID_home', 'PTS_home', 'FG_PCT_home','FT_PCT_home','AST_home', 'REB_home']]\n",
    "print(f\"X_test.shape = {X_test.shape}\")\n",
    "type(X_test)"
   ]
  },
  {
   "cell_type": "code",
   "execution_count": 19,
   "id": "08aa424b",
   "metadata": {
    "execution": {
     "iopub.execute_input": "2024-04-29T07:44:52.099387Z",
     "iopub.status.busy": "2024-04-29T07:44:52.098980Z",
     "iopub.status.idle": "2024-04-29T07:44:53.402314Z",
     "shell.execute_reply": "2024-04-29T07:44:53.401505Z"
    },
    "papermill": {
     "duration": 1.32219,
     "end_time": "2024-04-29T07:44:53.404516",
     "exception": false,
     "start_time": "2024-04-29T07:44:52.082326",
     "status": "completed"
    },
    "tags": []
   },
   "outputs": [
    {
     "data": {
      "text/plain": [
       "array([0, 1, 1])"
      ]
     },
     "execution_count": 19,
     "metadata": {},
     "output_type": "execute_result"
    }
   ],
   "source": [
    "\n",
    "\n",
    "# refit the model with the best hyperparameter value we found\n",
    "model = RandomForestClassifier(max_leaf_nodes = 34)\n",
    "model = model.fit(X_train_raw, y_train)\n",
    "\n",
    "# this make predictions for the test set\n",
    "predictions_test = model.predict(X_test)\n",
    "predictions_test[:10]\n",
    "\n",
    "predictions = model.predict(X_pred)\n",
    "predictions\n",
    "\n"
   ]
  },
  {
   "cell_type": "code",
   "execution_count": 20,
   "id": "619b4901",
   "metadata": {
    "execution": {
     "iopub.execute_input": "2024-04-29T07:44:53.438401Z",
     "iopub.status.busy": "2024-04-29T07:44:53.437503Z",
     "iopub.status.idle": "2024-04-29T07:44:53.444875Z",
     "shell.execute_reply": "2024-04-29T07:44:53.443634Z"
    },
    "papermill": {
     "duration": 0.026863,
     "end_time": "2024-04-29T07:44:53.447423",
     "exception": false,
     "start_time": "2024-04-29T07:44:53.420560",
     "status": "completed"
    },
    "tags": []
   },
   "outputs": [],
   "source": [
    "df_test['predictions'] = predictions_test\n",
    "pd.set_option(\"display.max_colwidth\", 240)\n",
    "df_test.head(n=10)\n",
    "df_pred['predictions'] = predictions"
   ]
  },
  {
   "cell_type": "code",
   "execution_count": 21,
   "id": "9c59df8c",
   "metadata": {
    "execution": {
     "iopub.execute_input": "2024-04-29T07:44:53.480842Z",
     "iopub.status.busy": "2024-04-29T07:44:53.479744Z",
     "iopub.status.idle": "2024-04-29T07:44:53.492192Z",
     "shell.execute_reply": "2024-04-29T07:44:53.491219Z"
    },
    "papermill": {
     "duration": 0.031354,
     "end_time": "2024-04-29T07:44:53.494330",
     "exception": false,
     "start_time": "2024-04-29T07:44:53.462976",
     "status": "completed"
    },
    "tags": []
   },
   "outputs": [
    {
     "data": {
      "text/html": [
       "<div>\n",
       "<style scoped>\n",
       "    .dataframe tbody tr th:only-of-type {\n",
       "        vertical-align: middle;\n",
       "    }\n",
       "\n",
       "    .dataframe tbody tr th {\n",
       "        vertical-align: top;\n",
       "    }\n",
       "\n",
       "    .dataframe thead th {\n",
       "        text-align: right;\n",
       "    }\n",
       "</style>\n",
       "<table border=\"1\" class=\"dataframe\">\n",
       "  <thead>\n",
       "    <tr style=\"text-align: right;\">\n",
       "      <th></th>\n",
       "      <th>HOME_TEAM_ID</th>\n",
       "      <th>predictions</th>\n",
       "    </tr>\n",
       "  </thead>\n",
       "  <tbody>\n",
       "    <tr>\n",
       "      <th>0</th>\n",
       "      <td>Heat</td>\n",
       "      <td>0</td>\n",
       "    </tr>\n",
       "    <tr>\n",
       "      <th>1</th>\n",
       "      <td>Pelicans</td>\n",
       "      <td>1</td>\n",
       "    </tr>\n",
       "    <tr>\n",
       "      <th>2</th>\n",
       "      <td>Nuggets</td>\n",
       "      <td>1</td>\n",
       "    </tr>\n",
       "  </tbody>\n",
       "</table>\n",
       "</div>"
      ],
      "text/plain": [
       "  HOME_TEAM_ID  predictions\n",
       "0         Heat            0\n",
       "1     Pelicans            1\n",
       "2      Nuggets            1"
      ]
     },
     "execution_count": 21,
     "metadata": {},
     "output_type": "execute_result"
    }
   ],
   "source": [
    "df_submission = df_pred[['HOME_TEAM_ID','predictions']]\n",
    "df_submission.columns = ['HOME_TEAM_ID', 'predictions']\n",
    "df_submission.head()"
   ]
  },
  {
   "cell_type": "code",
   "execution_count": 22,
   "id": "55b84415",
   "metadata": {
    "execution": {
     "iopub.execute_input": "2024-04-29T07:44:53.527542Z",
     "iopub.status.busy": "2024-04-29T07:44:53.526912Z",
     "iopub.status.idle": "2024-04-29T07:44:53.534768Z",
     "shell.execute_reply": "2024-04-29T07:44:53.533599Z"
    },
    "papermill": {
     "duration": 0.027533,
     "end_time": "2024-04-29T07:44:53.537383",
     "exception": false,
     "start_time": "2024-04-29T07:44:53.509850",
     "status": "completed"
    },
    "tags": []
   },
   "outputs": [],
   "source": [
    "df_submission.to_csv('dummyResults.csv', index=False)"
   ]
  }
 ],
 "metadata": {
  "kaggle": {
   "accelerator": "none",
   "dataSources": [
    {
     "datasetId": 458874,
     "sourceId": 4761991,
     "sourceType": "datasetVersion"
    },
    {
     "datasetId": 4901240,
     "sourceId": 8258439,
     "sourceType": "datasetVersion"
    },
    {
     "datasetId": 4901292,
     "sourceId": 8258513,
     "sourceType": "datasetVersion"
    },
    {
     "datasetId": 4901312,
     "sourceId": 8258541,
     "sourceType": "datasetVersion"
    }
   ],
   "dockerImageVersionId": 30673,
   "isGpuEnabled": false,
   "isInternetEnabled": false,
   "language": "python",
   "sourceType": "notebook"
  },
  "kernelspec": {
   "display_name": "Python 3",
   "language": "python",
   "name": "python3"
  },
  "language_info": {
   "codemirror_mode": {
    "name": "ipython",
    "version": 3
   },
   "file_extension": ".py",
   "mimetype": "text/x-python",
   "name": "python",
   "nbconvert_exporter": "python",
   "pygments_lexer": "ipython3",
   "version": "3.10.13"
  },
  "papermill": {
   "default_parameters": {},
   "duration": 18.646093,
   "end_time": "2024-04-29T07:44:54.275416",
   "environment_variables": {},
   "exception": null,
   "input_path": "__notebook__.ipynb",
   "output_path": "__notebook__.ipynb",
   "parameters": {},
   "start_time": "2024-04-29T07:44:35.629323",
   "version": "2.5.0"
  }
 },
 "nbformat": 4,
 "nbformat_minor": 5
}
